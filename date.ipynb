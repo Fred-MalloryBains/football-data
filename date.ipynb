{
 "cells": [
  {
   "cell_type": "code",
   "execution_count": 68,
   "id": "23373928-e73f-4630-ae46-61ddc3f96385",
   "metadata": {},
   "outputs": [],
   "source": [
    "import time \n",
    "import json\n",
    "from bs4 import BeautifulSoup\n",
    "import requests"
   ]
  },
  {
   "cell_type": "code",
   "execution_count": 74,
   "id": "be789d92-30ba-416f-b98c-af6a7e47203f",
   "metadata": {
    "scrolled": true
   },
   "outputs": [
    {
     "name": "stdout",
     "output_type": "stream",
     "text": [
      "https://www.sofascore.com/football/match/manchester-city-nottingham-forest/osr#id:12437007\n",
      "<?xml version=\"1.0\" encoding=\"utf-8\"?>\n",
      "<!DOCTYPE html PUBLIC \"-//W3C//DTD XHTML 1.0 Strict//EN\"\n",
      " \"http://www.w3.org/TR/xhtml1/DTD/xhtml1-strict.dtd\">\n",
      "<html>\n",
      " <head>\n",
      "  <title>\n",
      "   403 Forbidden\n",
      "  </title>\n",
      " </head>\n",
      " <body>\n",
      "  <h1>\n",
      "   Error 403 Forbidden\n",
      "  </h1>\n",
      "  <p>\n",
      "   Forbidden\n",
      "  </p>\n",
      "  <h3>\n",
      "   Error 54113\n",
      "  </h3>\n",
      "  <p>\n",
      "   Details: cache-lcy-eglc8600041-LCY 1743851310 2438745937\n",
      "  </p>\n",
      "  <hr/>\n",
      "  <p>\n",
      "   Varnish cache server\n",
      "  </p>\n",
      " </body>\n",
      "</html>\n",
      "\n"
     ]
    },
    {
     "ename": "TypeError",
     "evalue": "'NoneType' object is not subscriptable",
     "output_type": "error",
     "traceback": [
      "\u001b[0;31m---------------------------------------------------------------------------\u001b[0m",
      "\u001b[0;31mTypeError\u001b[0m                                 Traceback (most recent call last)",
      "Cell \u001b[0;32mIn[74], line 23\u001b[0m\n\u001b[1;32m     18\u001b[0m     hour \u001b[38;5;241m=\u001b[39m  (soup\u001b[38;5;241m.\u001b[39mtext[index \u001b[38;5;241m+\u001b[39m \u001b[38;5;241m6\u001b[39m:index \u001b[38;5;241m+\u001b[39m \u001b[38;5;241m11\u001b[39m])\n\u001b[1;32m     20\u001b[0m     \u001b[38;5;28;01mreturn\u001b[39;00m hour, full_date\n\u001b[0;32m---> 23\u001b[0m \u001b[43mget_date\u001b[49m\u001b[43m(\u001b[49m\u001b[38;5;124;43m\"\u001b[39;49m\u001b[38;5;124;43mhttps://www.sofascore.com/football/match/manchester-city-nottingham-forest/osr#id:12437007\u001b[39;49m\u001b[38;5;124;43m\"\u001b[39;49m\u001b[43m)\u001b[49m\n",
      "Cell \u001b[0;32mIn[74], line 13\u001b[0m, in \u001b[0;36mget_date\u001b[0;34m(url)\u001b[0m\n\u001b[1;32m     11\u001b[0m \u001b[38;5;28mprint\u001b[39m (soup\u001b[38;5;241m.\u001b[39mprettify())\n\u001b[1;32m     12\u001b[0m meta_data \u001b[38;5;241m=\u001b[39m soup\u001b[38;5;241m.\u001b[39mfind(\u001b[38;5;124m'\u001b[39m\u001b[38;5;124mmeta\u001b[39m\u001b[38;5;124m'\u001b[39m, itemprop \u001b[38;5;241m=\u001b[39m \u001b[38;5;124m'\u001b[39m\u001b[38;5;124mstartDate\u001b[39m\u001b[38;5;124m'\u001b[39m)\n\u001b[0;32m---> 13\u001b[0m date \u001b[38;5;241m=\u001b[39m \u001b[43mmeta_data\u001b[49m\u001b[43m[\u001b[49m\u001b[38;5;124;43m'\u001b[39;49m\u001b[38;5;124;43mcontent\u001b[39;49m\u001b[38;5;124;43m'\u001b[39;49m\u001b[43m]\u001b[49m\u001b[38;5;241m.\u001b[39msplit()\n\u001b[1;32m     14\u001b[0m full_date \u001b[38;5;241m=\u001b[39m \u001b[38;5;124mf\u001b[39m\u001b[38;5;124m\"\u001b[39m\u001b[38;5;132;01m{\u001b[39;00mdate[\u001b[38;5;241m0\u001b[39m]\u001b[38;5;132;01m}\u001b[39;00m\u001b[38;5;124m/\u001b[39m\u001b[38;5;132;01m{\u001b[39;00mmonth[date[\u001b[38;5;241m1\u001b[39m]]\u001b[38;5;132;01m}\u001b[39;00m\u001b[38;5;124m/\u001b[39m\u001b[38;5;132;01m{\u001b[39;00mdate[\u001b[38;5;241m2\u001b[39m]\u001b[38;5;132;01m}\u001b[39;00m\u001b[38;5;124m\"\u001b[39m\n\u001b[1;32m     17\u001b[0m index \u001b[38;5;241m=\u001b[39m soup\u001b[38;5;241m.\u001b[39mtext\u001b[38;5;241m.\u001b[39mfind(\u001b[38;5;124m\"\u001b[39m\u001b[38;5;124mTIME:\u001b[39m\u001b[38;5;124m\"\u001b[39m)\n",
      "\u001b[0;31mTypeError\u001b[0m: 'NoneType' object is not subscriptable"
     ]
    }
   ],
   "source": [
    "def get_date (url):\n",
    "    print (url)\n",
    "    month = {\"Jan\":\"1\",\"Feb\":\"2\", \"Mar\":\"3\",\n",
    "     \"Apr\":\"4\",\"May\":\"5\",\"Jun\":\"6\",\"Jul\":\"7\",\"Aug\":\"8\",\n",
    "     \"Sept\":\"9\",\"Oct\":\"10\",\"Nov\":\"11\",\n",
    "     \"Dec\":\"12\"}\n",
    "    \n",
    "    page = requests.get(url)\n",
    "    soup = BeautifulSoup (page.content, \"html.parser\")\n",
    "\n",
    "    print (soup.prettify())\n",
    "    meta_data = soup.find('meta', itemprop = 'startDate')\n",
    "    date = meta_data['content'].split()\n",
    "    full_date = f\"{date[0]}/{month[date[1]]}/{date[2]}\"\n",
    "    \n",
    "\n",
    "    index = soup.text.find(\"TIME:\")\n",
    "    hour =  (soup.text[index + 6:index + 11])\n",
    "\n",
    "    return hour, full_date\n",
    "\n",
    "\n",
    "get_date(\"https://www.sofascore.com/football/match/manchester-city-nottingham-forest/osr#id:12437007\")"
   ]
  },
  {
   "cell_type": "code",
   "execution_count": 64,
   "id": "2c1f653e-3530-4c4d-b954-5b88d3a77165",
   "metadata": {
    "scrolled": true
   },
   "outputs": [],
   "source": [
    "p = open (\"full.csv\",\"w\")\n",
    "with open (\"match_links copy.txt\",\"r\") as f, open (\"test.csv\",\"r\") as t:\n",
    "    while True:\n",
    "        url = f.readline()\n",
    "        data = t.readline()\n",
    "        if url and data:\n",
    "            p.write (data.strip() + \",\" + get_date_j(url) + \"\\n\")\n",
    "        else:\n",
    "            break"
   ]
  },
  {
   "cell_type": "code",
   "execution_count": 76,
   "id": "96841464-4400-4454-876b-93b31609db0a",
   "metadata": {
    "scrolled": true
   },
   "outputs": [
    {
     "name": "stdout",
     "output_type": "stream",
     "text": [
      "\n",
      "<?xml version=\"1.0\" encoding=\"utf-8\"?>\n",
      "<!DOCTYPE html PUBLIC \"-//W3C//DTD XHTML 1.0 Strict//EN\"\n",
      " \"http://www.w3.org/TR/xhtml1/DTD/xhtml1-strict.dtd\">\n",
      "\n",
      "<html>\n",
      "<head>\n",
      "<title>403 Forbidden</title>\n",
      "</head>\n",
      "<body>\n",
      "<h1>Error 403 Forbidden</h1>\n",
      "<p>Forbidden</p>\n",
      "<h3>Error 54113</h3>\n",
      "<p>Details: cache-lcy-eglc8600066-LCY 1743851820 2478173377</p>\n",
      "<hr/>\n",
      "<p>Varnish cache server</p>\n",
      "</body>\n",
      "</html>\n",
      "\n"
     ]
    },
    {
     "ename": "IndexError",
     "evalue": "list index out of range",
     "output_type": "error",
     "traceback": [
      "\u001b[0;31m---------------------------------------------------------------------------\u001b[0m",
      "\u001b[0;31mIndexError\u001b[0m                                Traceback (most recent call last)",
      "Cell \u001b[0;32mIn[76], line 29\u001b[0m\n\u001b[1;32m     25\u001b[0m     meta_data \u001b[38;5;241m=\u001b[39m soup\u001b[38;5;241m.\u001b[39mfind_all(\u001b[38;5;124m'\u001b[39m\u001b[38;5;124mscript\u001b[39m\u001b[38;5;124m'\u001b[39m, \u001b[38;5;28mtype\u001b[39m \u001b[38;5;241m=\u001b[39m \u001b[38;5;124m'\u001b[39m\u001b[38;5;124mapplication/ld+json\u001b[39m\u001b[38;5;124m'\u001b[39m)\n\u001b[1;32m     27\u001b[0m     \u001b[38;5;28mprint\u001b[39m ((json\u001b[38;5;241m.\u001b[39mloads(meta_data[\u001b[38;5;241m1\u001b[39m]\u001b[38;5;241m.\u001b[39mstring)[\u001b[38;5;124m'\u001b[39m\u001b[38;5;124mhomeTeam\u001b[39m\u001b[38;5;124m'\u001b[39m][\u001b[38;5;124m'\u001b[39m\u001b[38;5;124mname\u001b[39m\u001b[38;5;124m'\u001b[39m]))\n\u001b[0;32m---> 29\u001b[0m \u001b[43mget_teams\u001b[49m\u001b[43m(\u001b[49m\u001b[38;5;124;43m\"\u001b[39;49m\u001b[38;5;124;43mhttps://www.sofascore.com/football/match/manchester-city-nottingham-forest/osr#id:12437007\u001b[39;49m\u001b[38;5;124;43m\"\u001b[39;49m\u001b[43m)\u001b[49m\n",
      "Cell \u001b[0;32mIn[76], line 27\u001b[0m, in \u001b[0;36mget_teams\u001b[0;34m(url)\u001b[0m\n\u001b[1;32m     24\u001b[0m \u001b[38;5;28mprint\u001b[39m (soup)\n\u001b[1;32m     25\u001b[0m meta_data \u001b[38;5;241m=\u001b[39m soup\u001b[38;5;241m.\u001b[39mfind_all(\u001b[38;5;124m'\u001b[39m\u001b[38;5;124mscript\u001b[39m\u001b[38;5;124m'\u001b[39m, \u001b[38;5;28mtype\u001b[39m \u001b[38;5;241m=\u001b[39m \u001b[38;5;124m'\u001b[39m\u001b[38;5;124mapplication/ld+json\u001b[39m\u001b[38;5;124m'\u001b[39m)\n\u001b[0;32m---> 27\u001b[0m \u001b[38;5;28mprint\u001b[39m ((json\u001b[38;5;241m.\u001b[39mloads(\u001b[43mmeta_data\u001b[49m\u001b[43m[\u001b[49m\u001b[38;5;241;43m1\u001b[39;49m\u001b[43m]\u001b[49m\u001b[38;5;241m.\u001b[39mstring)[\u001b[38;5;124m'\u001b[39m\u001b[38;5;124mhomeTeam\u001b[39m\u001b[38;5;124m'\u001b[39m][\u001b[38;5;124m'\u001b[39m\u001b[38;5;124mname\u001b[39m\u001b[38;5;124m'\u001b[39m]))\n",
      "\u001b[0;31mIndexError\u001b[0m: list index out of range"
     ]
    }
   ],
   "source": [
    "def get_date_j (url):\n",
    "    month = {\"Jan\":\"1\",\"Feb\":\"2\", \"Mar\":\"3\",\n",
    "     \"Apr\":\"4\",\"May\":\"5\",\"Jun\":\"6\",\"Jul\":\"7\",\"Aug\":\"8\",\n",
    "     \"Sept\":\"9\",\"Oct\":\"10\",\"Nov\":\"11\",\n",
    "     \"Dec\":\"12\"}\n",
    "    \n",
    "    page = requests.get(url)\n",
    "    soup = BeautifulSoup (page.content, \"html.parser\")\n",
    "\n",
    "    meta_data = soup.find_all('script', type = 'application/ld+json')\n",
    "\n",
    "    return ((json.loads(meta_data[1].string)['startDate']))\n",
    "\n",
    "def get_teams (url):\n",
    "    headers = {\n",
    "        \"User-Agent\": (\n",
    "            \"Mozilla/5.0 (Macintosh; Intel Mac OS X 10_15_7) \"\n",
    "            \"AppleWebKit/537.36 (KHTML, like Gecko) \"\n",
    "            \"Chrome/122.0.0.0 Safari/537.36\"\n",
    "        )\n",
    "    }\n",
    "    page = requests.get(url, headers=headers)\n",
    "    soup = BeautifulSoup (page.content, \"html.parser\")\n",
    "    print (soup)\n",
    "    meta_data = soup.find_all('script', type = 'application/ld+json')\n",
    "\n",
    "    print ((json.loads(meta_data[1].string)['homeTeam']['name']))\n",
    "\n",
    "get_teams(\"https://www.sofascore.com/football/match/manchester-city-nottingham-forest/osr#id:12437007\")"
   ]
  },
  {
   "cell_type": "code",
   "execution_count": null,
   "id": "1cd4c559-3393-47d4-a635-62390920cbde",
   "metadata": {},
   "outputs": [],
   "source": []
  }
 ],
 "metadata": {
  "kernelspec": {
   "display_name": "Python 3 (ipykernel)",
   "language": "python",
   "name": "python3"
  },
  "language_info": {
   "codemirror_mode": {
    "name": "ipython",
    "version": 3
   },
   "file_extension": ".py",
   "mimetype": "text/x-python",
   "name": "python",
   "nbconvert_exporter": "python",
   "pygments_lexer": "ipython3",
   "version": "3.9.7"
  }
 },
 "nbformat": 4,
 "nbformat_minor": 5
}
