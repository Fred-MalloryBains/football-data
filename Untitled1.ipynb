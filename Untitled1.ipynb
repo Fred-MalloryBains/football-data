{
 "cells": [
  {
   "cell_type": "code",
   "execution_count": null,
   "id": "f4f41120-fa34-4fb9-99ce-df156cd7e832",
   "metadata": {},
   "outputs": [],
   "source": [
    "import requests \n",
    "\n",
    "request.get()"
   ]
  }
 ],
 "metadata": {
  "kernelspec": {
   "display_name": "Python 3 (ipykernel)",
   "language": "python",
   "name": "python3"
  },
  "language_info": {
   "codemirror_mode": {
    "name": "ipython",
    "version": 3
   },
   "file_extension": ".py",
   "mimetype": "text/x-python",
   "name": "python",
   "nbconvert_exporter": "python",
   "pygments_lexer": "ipython3",
   "version": "3.9.7"
  }
 },
 "nbformat": 4,
 "nbformat_minor": 5
}
