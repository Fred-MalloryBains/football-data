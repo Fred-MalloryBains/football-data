{
 "cells": [
  {
   "cell_type": "code",
   "execution_count": 1,
   "id": "d4a3a194-5a3a-410e-8fc5-ff5e01a0fe27",
   "metadata": {},
   "outputs": [],
   "source": [
    "import pandas as pd \n",
    "import numpy as np\n",
    "from sklearn.metrics import accuracy_score, precision_score\n",
    "from sklearn.ensemble import RandomForestClassifier\n",
    "from sklearn.model_selection import train_test_split"
   ]
  },
  {
   "cell_type": "code",
   "execution_count": 469,
   "id": "e2a5fb0c-275a-4c03-96db-60786b9dc0a1",
   "metadata": {},
   "outputs": [],
   "source": [
    "matches = pd.read_csv(\"version3.csv\")"
   ]
  },
  {
   "cell_type": "code",
   "execution_count": 2,
   "id": "b55c0fc1-387d-4c87-8bc0-5df5e4c82d12",
   "metadata": {},
   "outputs": [],
   "source": [
    "def odds_numeric(matches):\n",
    "    odds = matches['hOddsFraction']\n",
    "    nOdds = []\n",
    "    for odd in odds:\n",
    "        split = odd.split(\"/\")\n",
    "        nOdds.append(round(int(split[0]) / int(split[1]),2))\n",
    "    \n",
    "    matches['h_nOdds'] = nOdds\n",
    "    \n",
    "    \n",
    "    odds = matches['aOddsFraction']\n",
    "    nOdds = []\n",
    "    for odd in odds:\n",
    "        split = odd.split(\"/\")\n",
    "        nOdds.append(round(int(split[0]) / int(split[1]),2))\n",
    "    \n",
    "    matches['a_nOdds'] = nOdds\n",
    "    return matches\n"
   ]
  },
  {
   "cell_type": "code",
   "execution_count": 3,
   "id": "f21591cf-a144-4d8b-9260-80b90c0b6287",
   "metadata": {},
   "outputs": [],
   "source": [
    "def encodes(matches):\n",
    "    matches['hTeamCode'] = matches['hTeamName'].astype('category').cat.codes\n",
    "    matches['aTeamCode'] = matches['aTeamName'].astype('category').cat.codes\n",
    "    return matches\n",
    "def possession(matches):\n",
    "    matches['hBall possession'] = matches['hBall possession'].str.rstrip('%').astype(float) / 100\n",
    "    matches['aBall possession'] = matches['aBall possession'].str.rstrip('%').astype(float) / 100\n",
    "    return matches"
   ]
  },
  {
   "cell_type": "code",
   "execution_count": 4,
   "id": "998321bb-9aea-4f43-8d37-5b43353f1eac",
   "metadata": {},
   "outputs": [],
   "source": [
    "def date_time_codes(matches):\n",
    "    matches['dateTime'] = pd.to_datetime(matches['dateTime'])\n",
    "    matches['dateCode'] = matches['dateTime'].dt.strftime('%Y%m%d').astype(int)\n",
    "    matches['timeCode'] = matches['dateTime'].dt.strftime('%H%m%s').astype(int)\n",
    "    return matches"
   ]
  },
  {
   "cell_type": "code",
   "execution_count": 5,
   "id": "16c1401e-bf2f-4b7a-8721-24b3a57efbfa",
   "metadata": {},
   "outputs": [],
   "source": [
    "def bet_fail(matches):\n",
    "    matches['betFail'] = np.where(\n",
    "        ((matches['hWin'] == 0) & (matches['h_nOdds'] < 1)) |\n",
    "        ((matches['hWin'] == 1) & (matches['h_nOdds'] > 1)),\n",
    "        0,  \n",
    "        1   \n",
    "    )\n",
    "    return matches\n"
   ]
  },
  {
   "cell_type": "code",
   "execution_count": 6,
   "id": "791ad20c-da2c-4a51-b682-26ed94746724",
   "metadata": {},
   "outputs": [],
   "source": [
    "def init(matches):\n",
    "    matches = odds_numeric(matches)\n",
    "    matches = encodes(matches)\n",
    "    matches = date_time_codes(matches)\n",
    "    matches = bet_fail(matches)\n",
    "    matches = possession(matches)\n",
    "    return matches"
   ]
  },
  {
   "cell_type": "code",
   "execution_count": 475,
   "id": "736134c7-bd71-4fcd-87ba-c2a83e671a2b",
   "metadata": {},
   "outputs": [],
   "source": [
    "matches = init(matches)\n"
   ]
  },
  {
   "cell_type": "code",
   "execution_count": 483,
   "id": "829c63e6-9285-4966-96d0-8d2ada3b23cf",
   "metadata": {},
   "outputs": [
    {
     "data": {
      "text/plain": [
       "Index(['hTotal shots', 'aTotal shots', 'hFouls', 'aFouls', 'hExpected goals',\n",
       "       'aExpected goals', 'hFree kicks', 'aFree kicks', 'hTackles', 'aTackles',\n",
       "       'hYellow cards', 'aYellow cards', 'hPasses', 'aPasses', 'hBig chances',\n",
       "       'aBig chances', 'hRed cards', 'aRed cards', 'hGoalkeeper saves',\n",
       "       'aGoalkeeper saves', 'hBall possession', 'aBall possession',\n",
       "       'hCorner kicks', 'aCorner kicks', 'hOddsFraction', 'aOddsFraction',\n",
       "       'hScore', 'aScore', 'aWin', 'draw', 'hWin', 'hVsTeamWins',\n",
       "       'aVsTeamWins', 'aVsDraws', 'hVsManWins', 'aVsManWins', 'dateTime',\n",
       "       'hTeamName', 'aTeamName', 'h_nOdds', 'a_nOdds', 'hTeamCode',\n",
       "       'aTeamCode', 'dateCode', 'timeCode', 'betFail'],\n",
       "      dtype='object')"
      ]
     },
     "execution_count": 483,
     "metadata": {},
     "output_type": "execute_result"
    }
   ],
   "source": [
    "matches.columns"
   ]
  },
  {
   "cell_type": "code",
   "execution_count": 17,
   "id": "81f814ad-8094-4f46-a659-bfbe4d2ae786",
   "metadata": {},
   "outputs": [],
   "source": [
    "def rolling_averages (group,cols,new_cols):\n",
    "    group = group.sort_values('timeCode')\n",
    "    rolling_stats = group[cols].rolling(3,closed='left').mean()\n",
    "    group[new_cols] = rolling_stats\n",
    "    group = group.dropna(subset=new_cols)\n",
    "    group = get_form(group)\n",
    "    return group\n",
    "\n",
    "def weighted_form(arr):\n",
    "    weights = np.arange(1, len(arr) + 1)\n",
    "    \n",
    "    ## need to account for larger match form \n",
    "\n",
    "    return np.sum(arr * weights) / np.sum(weights)\n",
    "    \n",
    "## use neural networks \n",
    "def get_form (group):\n",
    "    group['hForm'] = group['hWin'].rolling(3,closed='left').apply(weighted_form, raw=True)\n",
    "    group['aForm'] = group['aWin'].rolling(3,closed='left').apply(weighted_form, raw=True)\n",
    "    group = group.dropna(subset=['hForm','aForm'])\n",
    "    return group"
   ]
  },
  {
   "cell_type": "code",
   "execution_count": 14,
   "id": "bba3d8e1-a70b-41ed-9224-97d5e3ddd456",
   "metadata": {},
   "outputs": [],
   "source": [
    "def init_rolling(matches):\n",
    "    cols = 'hBall possession,aBall possession,hExpected goals,aExpected goals,hBig chances,aBig chances,hTotal shots,aTotal shots,hGoalkeeper saves,aGoalkeeper saves,hCorner kicks,aCorner kicks,hFouls,aFouls,hPasses,aPasses,hTackles,aTackles,hFree kicks,aFree kicks,hYellow cards,aYellow cards,aRed cards,hRed cards,hScore,aScore'.split(\",\")\n",
    "    new_cols = [f\"{c}_rolling\" for c in cols]\n",
    "    grouped_matches = matches.groupby('hTeamName')\n",
    "    matches_rolling = matches.groupby('hTeamName').apply (lambda x: rolling_averages(x,cols,new_cols))\n",
    "    matches_rolling.droplevel('hTeamName')\n",
    "    return matches_rolling"
   ]
  },
  {
   "cell_type": "code",
   "execution_count": 20,
   "id": "4f93ebe4-f5d5-478a-8494-754c95a721ff",
   "metadata": {},
   "outputs": [],
   "source": [
    "def make_prediction (data,predictors):\n",
    "    rf = RandomForestClassifier (n_estimators = 50, min_samples_split = 10, random_state = 1)\n",
    "    X = data[predictors]\n",
    "    y = data['betFail']\n",
    "    X_train,X_test,y_train,y_test = train_test_split (X,y,random_state = 0)\n",
    "    rf.fit (X_train,y_train)\n",
    "    preds = rf.predict(X_test)\n",
    "    acc = accuracy_score (y_test,preds)\n",
    "    precision = precision_score (y_test,preds)\n",
    "    return y_test,preds"
   ]
  },
  {
   "cell_type": "code",
   "execution_count": 10,
   "id": "150e1427-b81a-4b3b-b368-ab0dc0a1f6d5",
   "metadata": {},
   "outputs": [],
   "source": [
    "new_predictors = ['h_nOdds',\n",
    " 'hTeamCode',\n",
    " 'aTeamCode',\n",
    " 'dateCode',\n",
    " 'timeCode',\n",
    " 'a_nOdds',\n",
    " 'hBall possession_rolling',\n",
    " 'aBall possession_rolling',\n",
    " 'hExpected goals_rolling',\n",
    " 'aExpected goals_rolling',\n",
    " 'hBig chances_rolling',\n",
    " 'aBig chances_rolling',\n",
    " 'hTotal shots_rolling',\n",
    " 'aTotal shots_rolling',\n",
    " 'hGoalkeeper saves_rolling',\n",
    " 'aGoalkeeper saves_rolling',\n",
    " 'hCorner kicks_rolling',\n",
    " 'aCorner kicks_rolling',\n",
    " 'hFouls_rolling',\n",
    " 'aFouls_rolling',\n",
    " 'hPasses_rolling',\n",
    " 'aPasses_rolling',\n",
    " 'hTackles_rolling',\n",
    " 'aTackles_rolling',\n",
    " 'hFree kicks_rolling',\n",
    " 'aFree kicks_rolling',\n",
    " 'hYellow cards_rolling',\n",
    " 'aYellow cards_rolling',\n",
    " 'aRed cards_rolling',\n",
    " 'hRed cards_rolling',\n",
    " 'hScore_rolling',\n",
    " 'aScore_rolling',\n",
    " 'hForm',\n",
    " 'aForm',\n",
    " 'hVsTeamWins',\n",
    " 'aVsTeamWins',\n",
    " 'aVsDraws',\n",
    " 'hVsManWins',\n",
    " 'aVsManWins']\n",
    "\n",
    "\n",
    "#matches_rolling['betFail'].value_counts()"
   ]
  },
  {
   "cell_type": "code",
   "execution_count": 23,
   "id": "d5f5fa43-eda1-4caa-ac29-e6369103845c",
   "metadata": {},
   "outputs": [
    {
     "name": "stderr",
     "output_type": "stream",
     "text": [
      "/var/folders/_x/r1xjhn255nq0l1y6fggns8km0000gp/T/ipykernel_45302/32819041.py:5: DeprecationWarning: DataFrameGroupBy.apply operated on the grouping columns. This behavior is deprecated, and in a future version of pandas the grouping columns will be excluded from the operation. Either pass `include_groups=False` to exclude the groupings or explicitly select the grouping columns after groupby to silence this warning.\n",
      "  matches_rolling = matches.groupby('hTeamName').apply (lambda x: rolling_averages(x,cols,new_cols))\n"
     ]
    },
    {
     "data": {
      "text/plain": [
       "['h_nOdds',\n",
       " 'hTeamCode',\n",
       " 'aTeamCode',\n",
       " 'dateCode',\n",
       " 'timeCode',\n",
       " 'a_nOdds',\n",
       " 'hBall possession_rolling',\n",
       " 'aBall possession_rolling',\n",
       " 'hExpected goals_rolling',\n",
       " 'aExpected goals_rolling',\n",
       " 'hBig chances_rolling',\n",
       " 'aBig chances_rolling',\n",
       " 'hTotal shots_rolling',\n",
       " 'aTotal shots_rolling',\n",
       " 'hGoalkeeper saves_rolling',\n",
       " 'aGoalkeeper saves_rolling',\n",
       " 'hCorner kicks_rolling',\n",
       " 'aCorner kicks_rolling',\n",
       " 'hFouls_rolling',\n",
       " 'aFouls_rolling',\n",
       " 'hPasses_rolling',\n",
       " 'aPasses_rolling',\n",
       " 'hTackles_rolling',\n",
       " 'aTackles_rolling',\n",
       " 'hFree kicks_rolling',\n",
       " 'aFree kicks_rolling',\n",
       " 'hYellow cards_rolling',\n",
       " 'aYellow cards_rolling',\n",
       " 'aRed cards_rolling',\n",
       " 'hRed cards_rolling',\n",
       " 'hScore_rolling',\n",
       " 'aScore_rolling',\n",
       " 'hForm',\n",
       " 'aForm',\n",
       " 'hVsTeamWins',\n",
       " 'aVsTeamWins',\n",
       " 'aVsDraws',\n",
       " 'hVsManWins',\n",
       " 'aVsManWins']"
      ]
     },
     "execution_count": 23,
     "metadata": {},
     "output_type": "execute_result"
    }
   ],
   "source": [
    "matches = pd.read_csv(\"version3.csv\")\n",
    "matches = init(matches)\n",
    "\n",
    "matches_rolling = init_rolling (matches)\n",
    "y_test,preds = make_prediction (matches_rolling,new_predictors)\n",
    "#new_predictors\n",
    "new_predictors"
   ]
  },
  {
   "cell_type": "code",
   "execution_count": 378,
   "id": "fbfc13ed-ffe5-443a-a60b-7dc65997a803",
   "metadata": {},
   "outputs": [],
   "source": [
    "matches_rolling.to_csv('df.csv',index=False)"
   ]
  },
  {
   "cell_type": "code",
   "execution_count": 22,
   "id": "a8e663be-e3f1-45d9-8cc2-e17c9f09463f",
   "metadata": {},
   "outputs": [
    {
     "name": "stdout",
     "output_type": "stream",
     "text": [
      "Target distribution:\n",
      "betFail\n",
      "1    0.62234\n",
      "0    0.37766\n",
      "Name: proportion, dtype: float64\n",
      "\n",
      "Confusion matrix:\n",
      "[[22  0]\n",
      " [ 0 25]]\n",
      "\n",
      "Classification report:\n",
      "              precision    recall  f1-score   support\n",
      "\n",
      "           0       1.00      1.00      1.00        22\n",
      "           1       1.00      1.00      1.00        25\n",
      "\n",
      "    accuracy                           1.00        47\n",
      "   macro avg       1.00      1.00      1.00        47\n",
      "weighted avg       1.00      1.00      1.00        47\n",
      "\n"
     ]
    }
   ],
   "source": [
    "from sklearn.metrics import classification_report, confusion_matrix\n",
    "\n",
    "print(\"Target distribution:\")\n",
    "print(matches_rolling['betFail'].value_counts(normalize=True))\n",
    "\n",
    "print(\"\\nConfusion matrix:\")\n",
    "print(confusion_matrix(y_test, preds))\n",
    "\n",
    "print(\"\\nClassification report:\")\n",
    "print(classification_report(y_test, preds))"
   ]
  },
  {
   "cell_type": "code",
   "execution_count": null,
   "id": "9bc202cd-5b8c-411d-ba79-5a7f820200ae",
   "metadata": {},
   "outputs": [],
   "source": []
  }
 ],
 "metadata": {
  "kernelspec": {
   "display_name": "Python 3 (ipykernel)",
   "language": "python",
   "name": "python3"
  },
  "language_info": {
   "codemirror_mode": {
    "name": "ipython",
    "version": 3
   },
   "file_extension": ".py",
   "mimetype": "text/x-python",
   "name": "python",
   "nbconvert_exporter": "python",
   "pygments_lexer": "ipython3",
   "version": "3.9.7"
  }
 },
 "nbformat": 4,
 "nbformat_minor": 5
}
