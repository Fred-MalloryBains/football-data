{
 "cells": [
  {
   "cell_type": "code",
   "execution_count": 5,
   "id": "c1b624aa-ee23-46ab-9a45-832fe00f1e8c",
   "metadata": {},
   "outputs": [],
   "source": [
    "import json\n",
    "import time\n",
    "from selenium import webdriver\n",
    "from selenium.webdriver.chrome.service import Service\n",
    "from selenium.webdriver.common.by import By\n",
    "from selenium.webdriver.support.ui import WebDriverWait\n",
    "from selenium.webdriver.support import expected_conditions as EC\n",
    "from bs4 import BeautifulSoup\n",
    "import requests\n",
    "\n",
    "options = webdriver.ChromeOptions()\n",
    "options.set_capability('goog:loggingPrefs', {\"performance\": \"ALL\", \"browser\": \"ALL\"})\n",
    "# Adding user agent to look more like a real browser\n",
    "options.add_argument(\"user-agent=Mozilla/5.0 (Macintosh; Intel Mac OS X 10_15_7) AppleWebKit/537.36 (KHTML, like Gecko) Chrome/134.0.0.0 Safari/537.36\")\n",
    "\n",
    "driver = webdriver.Chrome(options=options)\n",
    "driver.set_page_load_timeout(30)"
   ]
  },
  {
   "cell_type": "code",
   "execution_count": 4,
   "id": "87f0ad80-cc22-40bd-994d-3f3dbb5f332c",
   "metadata": {},
   "outputs": [],
   "source": [
    "url = \"https://www.sofascore.com/football/match/manchester-united-leicester-city/GK#id:12437027,tab:statistics\""
   ]
  },
  {
   "cell_type": "code",
   "execution_count": 3,
   "id": "03a15507-d431-427d-8064-a6fc5d27ab01",
   "metadata": {},
   "outputs": [],
   "source": [
    "def get_score(url,match_id, driver):\n",
    "    # Clear existing logs\n",
    "    #driver.get(\"about:blank\")\n",
    "    #logs = driver.get_log(\"performance\")\n",
    "    \n",
    "    # Load the page\n",
    "    \"\"\"\n",
    "    print(f\"Loading URL: {url}\")\n",
    "    driver.get(url)\n",
    "    \"\"\"\n",
    "    \n",
    "    \"\"\"\n",
    "    # Wait for the page to load properly\n",
    "    try:\n",
    "        WebDriverWait(driver, 10).until(\n",
    "            EC.presence_of_element_located((By.CSS_SELECTOR, \"body\"))\n",
    "        )\n",
    "    except:\n",
    "        print(\"Timeout waiting for page to load\")\n",
    "    \"\"\"\n",
    "    \"\"\"\n",
    "    # Interact with the page to trigger API calls\n",
    "    driver.execute_script(\"window.scrollTo(0, document.body.scrollHeight/2);\")\n",
    "    time.sleep(0.1)\n",
    "    driver.execute_script(\"window.scrollTo(0, document.body.scrollHeight);\")\n",
    "    time.sleep(0.2)\n",
    "\n",
    "    soup = BeautifulSoup (driver.page_source, \"html.parser\")\n",
    "\n",
    "    meta_data = soup.find_all('script', type = 'application/ld+json')\n",
    "\n",
    "    meta_data = json.loads(meta_data[1].string)\n",
    "    \"\"\"\n",
    "    # Direct API approach - try to call the API directly\n",
    "    \n",
    "    if match_id:\n",
    "        print(f\"Extracted match ID: {match_id}\")\n",
    "        urls = []\n",
    "        urls.append(f\"https://www.sofascore.com/api/v1/event/{match_id}/statistics\")\n",
    "        urls.append(f\"https://www.sofascore.com/api/v1/event/{match_id}\")\n",
    "        urls.append(f\"https://www.sofascore.com/api/v1/event/{match_id}/lineups\")\n",
    "\n",
    "        \n",
    "        data = {}\n",
    "        for i in range(0,len(urls)):\n",
    "            api_url = urls[i]\n",
    "            # Open the API URL directly\n",
    "            #driver.execute_script(f\"window.open('{api_url}', '_blank');\")\n",
    "\n",
    "            driver.get(api_url)\n",
    "            #time.sleep(2)\n",
    "            \n",
    "            # Switch to the new tab\n",
    "            #driver.switch_to.window(driver.window_handles[-1])\n",
    "            #time.sleep(1)\n",
    "            \n",
    "            # Get the page source which should contain the JSON\n",
    "            page_source = driver.page_source\n",
    "            \n",
    "            # Extract JSON from the page source\n",
    "            if \"application/json\" in page_source or \"{\" in page_source:\n",
    "                start_idx = page_source.find(\"{\")\n",
    "                end_idx = page_source.rfind(\"}\") + 1\n",
    "                if start_idx >= 0 and end_idx > start_idx:\n",
    "                    json_str = page_source[start_idx:end_idx]\n",
    "                    try:\n",
    "                        data[i] = json.loads(json_str)\n",
    "                    except json.JSONDecodeError:\n",
    "                        print(\"Failed to parse JSON response\")\n",
    "            \n",
    "            # Close the tab and switch back\n",
    "            #driver.close()\n",
    "            #driver.switch_to.window(driver.window_handles[0])\n",
    "\n",
    "        #data[len(urls)] = meta_data\n",
    "        return data"
   ]
  },
  {
   "cell_type": "code",
   "execution_count": 7,
   "id": "3d2b55f8-3c6b-438f-867a-303936d0bdc8",
   "metadata": {
    "scrolled": true
   },
   "outputs": [
    {
     "name": "stdout",
     "output_type": "stream",
     "text": [
      "Extracted match ID: 12437027\n"
     ]
    }
   ],
   "source": [
    "data =  (get_score(url,12437027,driver))"
   ]
  },
  {
   "cell_type": "code",
   "execution_count": 33,
   "id": "9f73846c-7a6a-4a6a-ae5e-7134465996d5",
   "metadata": {},
   "outputs": [],
   "source": [
    "def parse_data(data):\n",
    "    ## statisitics = 0 \n",
    "    ## event_data = 1\n",
    "    ## formation = 2\n",
    "    \n",
    "    statistics = data[0]['statistics'][0]['groups']\n",
    "    event = data[1]['event']\n",
    "    lineups = data[2]\n",
    "    \n",
    "    match_data = {}\n",
    "    \n",
    "    ## get stats data from match \n",
    "    stats_headers = ['Ball possession','Expected goals','Big chances', 'Total shots', 'Goalkeeper saves','Corner kicks','Fouls','Passes','Tackles','Free kicks','Yellow cards','Red cards']\n",
    "    stats_shots_headers = ['Total shots', 'Shots on target','Hit woodwork','Shots off target','Blocked shots', 'Shots inside box','Shots outside box']\n",
    "    stats_attack_headers = ['Big chances missed','Through balls','Touches in penalty area','Fouled in final third', 'Offsides']\n",
    "    stats_passes_headers = ['Accurate passes','Throw-ins','Final third entries','Long balls', 'crosses']\n",
    "    stats_duels_headers = ['Duels','Dispossessed','Ground duels','Aerial duels','Dribbles']\n",
    "    stats_defending_headers = ['Total tackles', 'Interceptions','Recoveries','Clearances','Errors lead to a shot']\n",
    "    stats_goalkeeper_headers = ['Total saves','Goals prevented','Big saves','High claims','Goal kicks']\n",
    "\n",
    "    all_headers = (\n",
    "        stats_headers +\n",
    "        stats_shots_headers +\n",
    "        stats_attack_headers +\n",
    "        stats_passes_headers +\n",
    "        stats_duels_headers +\n",
    "        stats_defending_headers +\n",
    "        stats_goalkeeper_headers\n",
    "    )\n",
    "    match_data.update({header: \"0\" for header in all_headers})\n",
    "    for home\n",
    "    # parse stats API \n",
    "    for group in statistics:\n",
    "        for stat in group['statisticsItems']:\n",
    "            if stat['name'] in all_headers:\n",
    "                match_data[stat['name']] = stat['awayValue']\n",
    "    print (match_data)"
   ]
  },
  {
   "cell_type": "code",
   "execution_count": 34,
   "id": "c37806f2-5369-48bf-aa60-2d9d9e54001d",
   "metadata": {},
   "outputs": [
    {
     "name": "stdout",
     "output_type": "stream",
     "text": [
      "{'teamName': 'poo', 'Ball possession': 46, 'Expected goals': 0.91, 'Big chances': 0, 'Total shots': 18, 'Goalkeeper saves': 3, 'Corner kicks': 4, 'Fouls': 6, 'Passes': 461, 'Tackles': 20, 'Free kicks': 6, 'Yellow cards': 0, 'Red cards': '0', 'Shots on target': 5, 'Hit woodwork': 1, 'Shots off target': 8, 'Blocked shots': 5, 'Shots inside box': 7, 'Shots outside box': 11, 'Big chances missed': 0, 'Through balls': 1, 'Touches in penalty area': 17, 'Fouled in final third': 1, 'Offsides': 2, 'Accurate passes': 359, 'Throw-ins': 25, 'Final third entries': 33, 'Long balls': 31, 'crosses': '0', 'Duels': 52, 'Dispossessed': 11, 'Ground duels': 32, 'Aerial duels': 24, 'Dribbles': 6, 'Total tackles': 20, 'Interceptions': 9, 'Recoveries': 59, 'Clearances': 31, 'Errors lead to a shot': 0, 'Total saves': 3, 'Goals prevented': 0.3835, 'Big saves': 1, 'High claims': 1, 'Goal kicks': 8}\n"
     ]
    }
   ],
   "source": [
    "parse_data(data)"
   ]
  },
  {
   "cell_type": "code",
   "execution_count": null,
   "id": "105217bf-61f5-4b88-95a1-aa14d1882f97",
   "metadata": {},
   "outputs": [],
   "source": []
  }
 ],
 "metadata": {
  "kernelspec": {
   "display_name": "Python 3 (ipykernel)",
   "language": "python",
   "name": "python3"
  },
  "language_info": {
   "codemirror_mode": {
    "name": "ipython",
    "version": 3
   },
   "file_extension": ".py",
   "mimetype": "text/x-python",
   "name": "python",
   "nbconvert_exporter": "python",
   "pygments_lexer": "ipython3",
   "version": "3.9.21"
  }
 },
 "nbformat": 4,
 "nbformat_minor": 5
}
