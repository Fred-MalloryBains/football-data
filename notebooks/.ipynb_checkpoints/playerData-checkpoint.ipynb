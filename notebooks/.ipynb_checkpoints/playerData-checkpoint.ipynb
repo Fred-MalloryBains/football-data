{
 "cells": [
  {
   "cell_type": "code",
   "execution_count": 1,
   "id": "a7105b9e-cfb3-4d3f-8800-3b808e987a2a",
   "metadata": {},
   "outputs": [],
   "source": [
    "import json\n",
    "import time\n",
    "from selenium import webdriver\n",
    "from selenium.webdriver.chrome.service import Service\n",
    "from selenium.webdriver.common.by import By\n",
    "from selenium.webdriver.support.ui import WebDriverWait\n",
    "from selenium.webdriver.support import expected_conditions as EC\n",
    "from bs4 import BeautifulSoup\n",
    "import requests\n",
    "\n",
    "options = webdriver.ChromeOptions()\n",
    "options.set_capability('goog:loggingPrefs', {\"performance\": \"ALL\", \"browser\": \"ALL\"})\n",
    "# Adding user agent to look more like a real browser\n",
    "options.add_argument(\"user-agent=Mozilla/5.0 (Macintosh; Intel Mac OS X 10_15_7) AppleWebKit/537.36 (KHTML, like Gecko) Chrome/134.0.0.0 Safari/537.36\")\n",
    "\n",
    "driver = webdriver.Chrome(options=options)\n",
    "driver.set_page_load_timeout(30)"
   ]
  },
  {
   "cell_type": "code",
   "execution_count": 2,
   "id": "8ebbb45c-0404-4f63-b36d-b3c1c9489273",
   "metadata": {},
   "outputs": [],
   "source": [
    "def get_score(url,match_id, driver):\n",
    "    # Clear existing logs\n",
    "    #driver.get(\"about:blank\")\n",
    "    #logs = driver.get_log(\"performance\")\n",
    "    \n",
    "    # Load the page\n",
    "    print(f\"Loading URL: {url}\")\n",
    "    driver.get(url)\n",
    "    \"\"\"\n",
    "    # Wait for the page to load properly\n",
    "    try:\n",
    "        WebDriverWait(driver, 10).until(\n",
    "            EC.presence_of_element_located((By.CSS_SELECTOR, \"body\"))\n",
    "        )\n",
    "    except:\n",
    "        print(\"Timeout waiting for page to load\")\n",
    "    \"\"\"\n",
    "    \n",
    "    # Interact with the page to trigger API calls\n",
    "    driver.execute_script(\"window.scrollTo(0, document.body.scrollHeight/2);\")\n",
    "    time.sleep(0.1)\n",
    "    driver.execute_script(\"window.scrollTo(0, document.body.scrollHeight);\")\n",
    "    time.sleep(0.2)\n",
    "\n",
    "    soup = BeautifulSoup (driver.page_source, \"html.parser\")\n",
    "\n",
    "    meta_data = soup.find_all('script', type = 'application/ld+json')\n",
    "\n",
    "    meta_data = json.loads(meta_data[1].string)\n",
    "    \n",
    "    # Direct API approach - try to call the API directly\n",
    "    \n",
    "    if match_id:\n",
    "        print(f\"Extracted match ID: {match_id}\")\n",
    "        urls = []\n",
    "        urls.append(f\"https://www.sofascore.com/api/v1/event/{match_id}/average-positions\")\n",
    "        urls.append(f\"https://www.sofascore.com/api/v1/event/{match_id}/lineups\")\n",
    "\n",
    "        \n",
    "        data = {}\n",
    "        for i in range(0,len(urls)):\n",
    "            api_url = urls[i]\n",
    "            # Open the API URL directly\n",
    "            driver.execute_script(f\"window.open('{api_url}', '_blank');\")\n",
    "            #time.sleep(2)\n",
    "            \n",
    "            # Switch to the new tab\n",
    "            driver.switch_to.window(driver.window_handles[-1])\n",
    "            #time.sleep(1)\n",
    "            \n",
    "            # Get the page source which should contain the JSON\n",
    "            page_source = driver.page_source\n",
    "            \n",
    "            # Extract JSON from the page source\n",
    "            if \"application/json\" in page_source or \"{\" in page_source:\n",
    "                start_idx = page_source.find(\"{\")\n",
    "                end_idx = page_source.rfind(\"}\") + 1\n",
    "                if start_idx >= 0 and end_idx > start_idx:\n",
    "                    json_str = page_source[start_idx:end_idx]\n",
    "                    try:\n",
    "                        data[i] = json.loads(json_str)\n",
    "                    except json.JSONDecodeError:\n",
    "                        print(\"Failed to parse JSON response\")\n",
    "            \n",
    "            # Close the tab and switch back\n",
    "            driver.close()\n",
    "            driver.switch_to.window(driver.window_handles[0])\n",
    "\n",
    "        data[len(urls)] = meta_data\n",
    "        return data"
   ]
  },
  {
   "cell_type": "code",
   "execution_count": 3,
   "id": "30aeae6d-8a25-4b0f-be09-3b8575055daf",
   "metadata": {},
   "outputs": [
    {
     "ename": "NameError",
     "evalue": "name 'url' is not defined",
     "output_type": "error",
     "traceback": [
      "\u001b[0;31m---------------------------------------------------------------------------\u001b[0m",
      "\u001b[0;31mNameError\u001b[0m                                 Traceback (most recent call last)",
      "Cell \u001b[0;32mIn[3], line 1\u001b[0m\n\u001b[0;32m----> 1\u001b[0m \u001b[38;5;28mprint\u001b[39m (get_score(\u001b[43murl\u001b[49m,\u001b[38;5;124m'\u001b[39m\u001b[38;5;124m12437027\u001b[39m\u001b[38;5;124m'\u001b[39m,driver))\n",
      "\u001b[0;31mNameError\u001b[0m: name 'url' is not defined"
     ]
    }
   ],
   "source": [
    "print (get_score(url,'12437027',driver))"
   ]
  },
  {
   "cell_type": "code",
   "execution_count": null,
   "id": "9febd0ad-d9cf-4589-b598-57aa345f6933",
   "metadata": {},
   "outputs": [],
   "source": [
    "url = \"https://www.sofascore.com/football/match/manchester-united-leicester-city/GK#id:12437027,tab:statistics\""
   ]
  }
 ],
 "metadata": {
  "kernelspec": {
   "display_name": "Python 3 (ipykernel)",
   "language": "python",
   "name": "python3"
  },
  "language_info": {
   "codemirror_mode": {
    "name": "ipython",
    "version": 3
   },
   "file_extension": ".py",
   "mimetype": "text/x-python",
   "name": "python",
   "nbconvert_exporter": "python",
   "pygments_lexer": "ipython3",
   "version": "3.9.7"
  }
 },
 "nbformat": 4,
 "nbformat_minor": 5
}
