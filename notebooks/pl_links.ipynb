{
 "cells": [
  {
   "cell_type": "code",
   "execution_count": 3,
   "id": "680a794c-e0b9-4e6e-94f7-3ef19190523c",
   "metadata": {},
   "outputs": [],
   "source": [
    "from selenium import webdriver\n",
    "from selenium.webdriver.common.by import By\n",
    "from selenium.webdriver.common.keys import Keys\n",
    "from selenium.webdriver.chrome.service import Service\n",
    "from selenium.webdriver.common.action_chains import ActionChains\n",
    "from selenium.webdriver.support.ui import WebDriverWait\n",
    "import time\n",
    "from bs4 import BeautifulSoup"
   ]
  },
  {
   "cell_type": "code",
   "execution_count": 1,
   "id": "30c7a3eb-9119-4911-9c85-ee0eb3beb4b9",
   "metadata": {},
   "outputs": [],
   "source": [
    "url = \"https://www.premierleague.com/results\""
   ]
  },
  {
   "cell_type": "code",
   "execution_count": 4,
   "id": "8ca7ee11-ae8b-4b91-a1b0-64d0dac12dba",
   "metadata": {},
   "outputs": [],
   "source": [
    "options = webdriver.ChromeOptions()\n",
    "options.set_capability('goog:loggingPrefs', {\"performance\": \"ALL\", \"browser\": \"ALL\"})\n",
    "# Adding user agent to look more like a real browser\n",
    "options.add_argument(\"user-agent=Mozilla/5.0 (Macintosh; Intel Mac OS X 10_15_7) AppleWebKit/537.36 (KHTML, like Gecko) Chrome/134.0.0.0 Safari/537.36\")\n",
    "\n",
    "driver = webdriver.Chrome(options=options)\n",
    "wait = WebDriverWait (driver,10)\n",
    "driver.set_page_load_timeout(50)\n",
    "driver.set_window_size(800, 600)"
   ]
  },
  {
   "cell_type": "code",
   "execution_count": 5,
   "id": "047989ea-601e-457b-8901-35c3136967c3",
   "metadata": {},
   "outputs": [
    {
     "name": "stdout",
     "output_type": "stream",
     "text": [
      "last height:  3682\n",
      "new_height:  6207\n",
      "new_height:  8758\n",
      "new_height:  11206\n",
      "new_height:  13601\n",
      "new_height:  16152\n",
      "new_height:  18600\n",
      "new_height:  20944\n",
      "new_height:  23194\n",
      "new_height:  23158\n",
      "new_height:  23158\n"
     ]
    }
   ],
   "source": [
    "driver.get(url)\n",
    "time.sleep(3)  # Allow page to load\n",
    "\n",
    "\n",
    "# Scroll to load all past matches\n",
    "last_height = driver.execute_script(\"return document.documentElement.scrollHeight\")\n",
    "print (\"last height: \" , last_height)\n",
    "prev = 0\n",
    "while True:\n",
    "    next_height = 0\n",
    "    while next_height < last_height - 200:\n",
    "        next_height = prev + 25\n",
    "        driver.execute_script(f\"window.scrollTo({prev}, {next_height});\")\n",
    "        time.sleep (0.1)\n",
    "        prev = next_height\n",
    "    # Wait for new matches to load\n",
    "    new_height = driver.execute_script(\"return document.documentElement.scrollHeight\")\n",
    "    print (\"new_height: \", new_height)\n",
    "    if new_height == last_height:\n",
    "        break  # Stop when no more matches load\n",
    "    last_height = new_height\n",
    "\n",
    "time.sleep (5) # time to load\n",
    "soup = BeautifulSoup(driver.page_source, \"html.parser\")\n",
    "season_matches = soup\n",
    "driver.quit()  # Close Selenium"
   ]
  },
  {
   "cell_type": "code",
   "execution_count": 11,
   "id": "8caa349f-e18a-4a6b-a8ac-51ede34c57dc",
   "metadata": {},
   "outputs": [],
   "source": [
    "date_containers = season_matches.find_all('div', 'fixtures__date-container')\n",
    "match_links = []\n",
    "\n",
    "for container in date_containers:\n",
    "    for match_fixtures in container.find_all('li', class_='match-fixture'):\n",
    "        match_links.append(match_fixtures.get('data-comp-match-item'))"
   ]
  },
  {
   "cell_type": "code",
   "execution_count": 17,
   "id": "7e4d6391-ac94-4de1-8d1e-f280f06207b4",
   "metadata": {
    "scrolled": true
   },
   "outputs": [
    {
     "name": "stdout",
     "output_type": "stream",
     "text": [
      "338\n"
     ]
    }
   ],
   "source": [
    "print (len(set(match_links)))"
   ]
  },
  {
   "cell_type": "code",
   "execution_count": 18,
   "id": "91bdb70c-3578-46b5-b002-c56c9072155f",
   "metadata": {},
   "outputs": [],
   "source": [
    "with open(\"match_id.csv\", \"a\") as f:\n",
    "    f.write(\"\\n\".join(match_links) + \"\\n\")"
   ]
  },
  {
   "cell_type": "code",
   "execution_count": null,
   "id": "178f6f4a-f809-4579-8b8c-cb60b8ec048b",
   "metadata": {},
   "outputs": [],
   "source": []
  }
 ],
 "metadata": {
  "kernelspec": {
   "display_name": "Python 3 (ipykernel)",
   "language": "python",
   "name": "python3"
  },
  "language_info": {
   "codemirror_mode": {
    "name": "ipython",
    "version": 3
   },
   "file_extension": ".py",
   "mimetype": "text/x-python",
   "name": "python",
   "nbconvert_exporter": "python",
   "pygments_lexer": "ipython3",
   "version": "3.9.7"
  }
 },
 "nbformat": 4,
 "nbformat_minor": 5
}
