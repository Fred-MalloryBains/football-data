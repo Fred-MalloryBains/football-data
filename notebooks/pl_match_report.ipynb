{
 "cells": [
  {
   "cell_type": "code",
   "execution_count": 1,
   "id": "835a8bd1-9ea4-4d8e-bf51-371c562fdfd6",
   "metadata": {},
   "outputs": [],
   "source": [
    "from selenium import webdriver\n",
    "from selenium.webdriver.common.by import By\n",
    "from selenium.webdriver.common.keys import Keys\n",
    "from selenium.webdriver.chrome.service import Service\n",
    "from selenium.webdriver.common.action_chains import ActionChains\n",
    "from selenium.webdriver.support.ui import WebDriverWait\n",
    "import time\n",
    "from bs4 import BeautifulSoup\n",
    "import requests"
   ]
  },
  {
   "cell_type": "code",
   "execution_count": 2,
   "id": "8b236177-e0ee-45b2-aaf3-cf29a2f54cb0",
   "metadata": {},
   "outputs": [],
   "source": [
    "options = webdriver.ChromeOptions()\n",
    "options.set_capability('goog:loggingPrefs', {\"performance\": \"ALL\", \"browser\": \"ALL\"})\n",
    "# Adding user agent to look more like a real browser\n",
    "options.add_argument(\"user-agent=Mozilla/5.0 (Macintosh; Intel Mac OS X 10_15_7) AppleWebKit/537.36 (KHTML, like Gecko) Chrome/134.0.0.0 Safari/537.36\")\n",
    "\n",
    "driver = webdriver.Chrome(options=options)\n",
    "wait = WebDriverWait (driver,10)\n",
    "driver.set_page_load_timeout(50)\n",
    "driver.set_window_size(800, 600)"
   ]
  },
  {
   "cell_type": "code",
   "execution_count": 5,
   "id": "fed7a335-f3f5-45e3-a047-bf227405400e",
   "metadata": {},
   "outputs": [],
   "source": [
    "url = \"https://www.premierleague.com/match/115874\""
   ]
  },
  {
   "cell_type": "code",
   "execution_count": 6,
   "id": "22602612-130f-42e2-a033-ec7a9e3e10f0",
   "metadata": {
    "scrolled": true
   },
   "outputs": [],
   "source": [
    "def get_report(url):\n",
    "    driver.get(url)\n",
    "    \n",
    "    # Interact with the page to trigger API calls\n",
    "    driver.execute_script(\"window.scrollTo(0, document.body.scrollHeight/2);\")\n",
    "    time.sleep(2)\n",
    "    \n",
    "    soup = BeautifulSoup (driver.page_source, \"html.parser\")\n",
    "    \n",
    "    report = ''\n",
    "    for p in soup.find('article',class_ = \"mc-match-report__article-body article__body\"):\n",
    "        report += p.get_text()\n",
    "    return report"
   ]
  },
  {
   "cell_type": "code",
   "execution_count": 4,
   "id": "fbfaa1ca-9cf2-4ddb-b49a-d2d8371ea308",
   "metadata": {},
   "outputs": [],
   "source": [
    "match_report = {}"
   ]
  },
  {
   "cell_type": "code",
   "execution_count": 19,
   "id": "80d87dd1-cfe0-44b7-8c04-a652a4fec1e1",
   "metadata": {
    "scrolled": true
   },
   "outputs": [
    {
     "name": "stdout",
     "output_type": "stream",
     "text": [
      "...\n",
      "\n",
      "...\n",
      "\n",
      "...\n",
      "\n"
     ]
    }
   ],
   "source": [
    "file = open ('match_id.csv','r')\n",
    "\n",
    "count = 0\n",
    "for f in file:\n",
    "    new_id = f.strip()\n",
    "    report = ''\n",
    "    if new_id not in match_report:\n",
    "        try:\n",
    "            report = get_report(f\"https://www.premierleague.com/match/{new_id}\")\n",
    "            match_report[new_id] = report\n",
    "        except:\n",
    "            time.sleep(0.1)\n",
    "            print ('...\\n')\n",
    "    \n",
    "   \n"
   ]
  },
  {
   "cell_type": "code",
   "execution_count": 7,
   "id": "1eeb14f8-0050-4b3c-916a-f6a5d142c16c",
   "metadata": {
    "scrolled": true
   },
   "outputs": [
    {
     "ename": "TypeError",
     "evalue": "'NoneType' object is not iterable",
     "output_type": "error",
     "traceback": [
      "\u001b[0;31m---------------------------------------------------------------------------\u001b[0m",
      "\u001b[0;31mTypeError\u001b[0m                                 Traceback (most recent call last)",
      "Cell \u001b[0;32mIn[7], line 1\u001b[0m\n\u001b[0;32m----> 1\u001b[0m \u001b[38;5;28mprint\u001b[39m (\u001b[43mget_report\u001b[49m\u001b[43m(\u001b[49m\u001b[43murl\u001b[49m\u001b[43m)\u001b[49m)\n\u001b[1;32m      2\u001b[0m \u001b[38;5;66;03m#print (len(match_report))\u001b[39;00m\n",
      "Cell \u001b[0;32mIn[6], line 11\u001b[0m, in \u001b[0;36mget_report\u001b[0;34m(url)\u001b[0m\n\u001b[1;32m      8\u001b[0m soup \u001b[38;5;241m=\u001b[39m BeautifulSoup (driver\u001b[38;5;241m.\u001b[39mpage_source, \u001b[38;5;124m\"\u001b[39m\u001b[38;5;124mhtml.parser\u001b[39m\u001b[38;5;124m\"\u001b[39m)\n\u001b[1;32m     10\u001b[0m report \u001b[38;5;241m=\u001b[39m \u001b[38;5;124m'\u001b[39m\u001b[38;5;124m'\u001b[39m\n\u001b[0;32m---> 11\u001b[0m \u001b[38;5;28;01mfor\u001b[39;00m p \u001b[38;5;129;01min\u001b[39;00m soup\u001b[38;5;241m.\u001b[39mfind(\u001b[38;5;124m'\u001b[39m\u001b[38;5;124marticle\u001b[39m\u001b[38;5;124m'\u001b[39m,class_ \u001b[38;5;241m=\u001b[39m \u001b[38;5;124m\"\u001b[39m\u001b[38;5;124mmc-match-report__article-body article__body\u001b[39m\u001b[38;5;124m\"\u001b[39m):\n\u001b[1;32m     12\u001b[0m     report \u001b[38;5;241m+\u001b[39m\u001b[38;5;241m=\u001b[39m p\u001b[38;5;241m.\u001b[39mget_text()\n\u001b[1;32m     13\u001b[0m \u001b[38;5;28;01mreturn\u001b[39;00m report\n",
      "\u001b[0;31mTypeError\u001b[0m: 'NoneType' object is not iterable"
     ]
    }
   ],
   "source": [
    "print (get_report(url))\n",
    "#print (len(match_report))"
   ]
  },
  {
   "cell_type": "code",
   "execution_count": 7,
   "id": "b06564fd-976f-4260-8e1c-4ea13d56c909",
   "metadata": {},
   "outputs": [
    {
     "name": "stdout",
     "output_type": "stream",
     "text": [
      "4666\n"
     ]
    }
   ],
   "source": [
    "print (len(match_report['116158']))"
   ]
  },
  {
   "cell_type": "code",
   "execution_count": 10,
   "id": "99a3abfb-6507-4348-9b49-34ffa7f1bb33",
   "metadata": {},
   "outputs": [],
   "source": [
    "for i in list(match_report.keys()):\n",
    "    f = open(f'reports/{i}.txt','w')\n",
    "    f.write(match_report[i])\n",
    "    f.close()"
   ]
  },
  {
   "cell_type": "code",
   "execution_count": null,
   "id": "a0ad0dea-2808-43de-80f0-e0aac53eef29",
   "metadata": {},
   "outputs": [],
   "source": []
  }
 ],
 "metadata": {
  "kernelspec": {
   "display_name": "Python 3 (ipykernel)",
   "language": "python",
   "name": "python3"
  },
  "language_info": {
   "codemirror_mode": {
    "name": "ipython",
    "version": 3
   },
   "file_extension": ".py",
   "mimetype": "text/x-python",
   "name": "python",
   "nbconvert_exporter": "python",
   "pygments_lexer": "ipython3",
   "version": "3.9.7"
  }
 },
 "nbformat": 4,
 "nbformat_minor": 5
}
